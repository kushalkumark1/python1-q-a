{
 "cells": [
  {
   "cell_type": "markdown",
   "id": "f2597510",
   "metadata": {},
   "source": [
    "# Q1. Write a program to accept percentage from the user and display the grade according to the following criteria:\n",
    "\n",
    "         Marks                                    Grade\n",
    "         > 90                                        A\n",
    "         > 80 and <= 90                              B\n",
    "         >= 60 and <= 80                             C\n",
    "         below 60                                    D\n"
   ]
  },
  {
   "cell_type": "code",
   "execution_count": 2,
   "id": "36010b2e",
   "metadata": {},
   "outputs": [
    {
     "name": "stdout",
     "output_type": "stream",
     "text": [
      "type your number91\n",
      "i got the grade a\n"
     ]
    }
   ],
   "source": [
    "x=int(input(\"type your number\"))\n",
    "\n",
    "if x>90:\n",
    "    print(\"i got the grade a\")\n",
    "elif x>80 and x<=90:\n",
    "    print(\"i got the grade b\")\n",
    "elif x>=60 and x<=80:\n",
    "    print(\"i got the grade c\")\n",
    "else:\n",
    "    print(\"i got the grade d\")"
   ]
  },
  {
   "cell_type": "markdown",
   "id": "9e41be77",
   "metadata": {},
   "source": [
    "# Q2.Write a program to accept the cost price of a bike and display the road tax to be paid according to the following criteria :\n",
    "    \n",
    "        Cost price (in Rs)                                       Tax\n",
    "        > 100000                                                  15 %\n",
    "        > 50000 and <= 100000                                     10%\n",
    "        <= 50000             \n",
    "                                                                 5%"
   ]
  },
  {
   "cell_type": "code",
   "execution_count": 4,
   "id": "b98d4f71",
   "metadata": {},
   "outputs": [
    {
     "name": "stdout",
     "output_type": "stream",
     "text": [
      "type your number110000\n",
      "your road tax 16500.0\n"
     ]
    }
   ],
   "source": [
    "x=int(input(\"type your number\"))\n",
    "\n",
    "if x>100000:\n",
    "    a=x*15/100\n",
    "    print(\"your road tax\",a)\n",
    "elif x>50000 and x<-100000:\n",
    "    b=x*10/100\n",
    "    print(\"your road tax\",b)\n",
    "else:\n",
    "    c=x*5/100\n",
    "    print(\"your road tax\",c)"
   ]
  },
  {
   "cell_type": "markdown",
   "id": "6ba999bb",
   "metadata": {},
   "source": [
    "# Q4. Write a program to check whether a person is eligible for voting or not. (accept age from user)"
   ]
  },
  {
   "cell_type": "code",
   "execution_count": 5,
   "id": "9e476faf",
   "metadata": {},
   "outputs": [
    {
     "name": "stdout",
     "output_type": "stream",
     "text": [
      "type your number22\n",
      "your are eligible\n"
     ]
    }
   ],
   "source": [
    "x=int(input(\"type your number\"))\n",
    "\n",
    "if x>18:\n",
    "    print(\"your are eligible\")\n",
    "else:\n",
    "    print(\"your not eligible\")"
   ]
  },
  {
   "cell_type": "markdown",
   "id": "054900db",
   "metadata": {},
   "source": [
    "# Q5. Write a program to check whether a number entered by user is even or odd."
   ]
  },
  {
   "cell_type": "code",
   "execution_count": 12,
   "id": "39be6c65",
   "metadata": {},
   "outputs": [
    {
     "name": "stdout",
     "output_type": "stream",
     "text": [
      "type your number89\n",
      "its a odd number\n"
     ]
    }
   ],
   "source": [
    "x=int(input(\"type your number\"))\n",
    "if x%2==0:\n",
    "    print(\"its a even number\")\n",
    "else:\n",
    "    print(\"its a odd number\")"
   ]
  },
  {
   "cell_type": "markdown",
   "id": "c46df5c6",
   "metadata": {},
   "source": [
    "# Q6. Write a program to check whether a number is divisible by 7 or not."
   ]
  },
  {
   "cell_type": "code",
   "execution_count": 25,
   "id": "8f7a3ac9",
   "metadata": {},
   "outputs": [
    {
     "name": "stdout",
     "output_type": "stream",
     "text": [
      "type your number21\n",
      "divisible by 7\n"
     ]
    }
   ],
   "source": [
    "x=int(input(\"type your number\"))\n",
    "\n",
    "if x%7==0:\n",
    "    print(\"divisible by 7\")\n",
    "else:\n",
    "    print(\"not divisible by 7\")"
   ]
  },
  {
   "cell_type": "markdown",
   "id": "aebed4b6",
   "metadata": {},
   "source": [
    "# Q7 Write a program to display \"Hello\" if a number entered by user is a multiple of five , otherwise print \"Bye\"."
   ]
  },
  {
   "cell_type": "code",
   "execution_count": 32,
   "id": "4b35e60c",
   "metadata": {},
   "outputs": [
    {
     "name": "stdout",
     "output_type": "stream",
     "text": [
      "type your number85\n",
      "hello\n"
     ]
    }
   ],
   "source": [
    "x=int(input(\"type your number\"))\n",
    "\n",
    "if x%5==0:\n",
    "    print(\"hello\")\n",
    "else:\n",
    "    print(\"bye\")"
   ]
  },
  {
   "cell_type": "markdown",
   "id": "2bd8b132",
   "metadata": {},
   "source": [
    " # Q8 Write a program to calculate the electricity bill (accept number of unit from user) according to the following criteria :\n",
    "          Unit                                                     Price  \n",
    "#First 100 units                                               no charge\n",
    "#Next 100 units                                              Rs 5 per unit\n",
    "#After 200 units                                             Rs 10 per unit\n",
    "#(For example if input unit is 350 than total bill amount is Rs2000)\n"
   ]
  },
  {
   "cell_type": "code",
   "execution_count": 37,
   "id": "362486bd",
   "metadata": {},
   "outputs": [
    {
     "name": "stdout",
     "output_type": "stream",
     "text": [
      "type your number350\n",
      "its charge 10 per unit 2000\n"
     ]
    }
   ],
   "source": [
    "x=int(input(\"type your number\"))\n",
    "\n",
    "if x<100:\n",
    "    print(\"no charge\")\n",
    "elif x>100 and x<=200:\n",
    "    x=x*100\n",
    "    print(\"its charge 5 per unit\",x*5)\n",
    "else:\n",
    "    t=100*5\n",
    "    y=(x-200)*10\n",
    "    print(\"its charge 10 per unit\",t+y)"
   ]
  },
  {
   "cell_type": "markdown",
   "id": "9f188c18",
   "metadata": {},
   "source": [
    "# Q9. Write a program to display the last digit of a number.(hint : any number % 10 will return the last digit)"
   ]
  },
  {
   "cell_type": "code",
   "execution_count": 41,
   "id": "9027ff25",
   "metadata": {},
   "outputs": [
    {
     "name": "stdout",
     "output_type": "stream",
     "text": [
      "type your number122345\n",
      "5\n"
     ]
    }
   ],
   "source": [
    "x=int(input('type your number'))\n",
    "a=x%10\n",
    "print(a)"
   ]
  },
  {
   "cell_type": "markdown",
   "id": "68def5ea",
   "metadata": {},
   "source": [
    "# Q10. Write a program to check whether the last digit of a number( entered by user ) is divisible by 3 or not."
   ]
  },
  {
   "cell_type": "code",
   "execution_count": 46,
   "id": "b40673cd",
   "metadata": {},
   "outputs": [
    {
     "name": "stdout",
     "output_type": "stream",
     "text": [
      "type your number15\n",
      "divisible by 3\n"
     ]
    }
   ],
   "source": [
    "x=int(input('type your number'))\n",
    "\n",
    "if x%3==0:\n",
    "    print(\"divisible by 3\")\n",
    "else:\n",
    "    print(\"not divisible by 3\")"
   ]
  },
  {
   "cell_type": "code",
   "execution_count": null,
   "id": "e5132752",
   "metadata": {},
   "outputs": [],
   "source": []
  }
 ],
 "metadata": {
  "kernelspec": {
   "display_name": "Python 3 (ipykernel)",
   "language": "python",
   "name": "python3"
  },
  "language_info": {
   "codemirror_mode": {
    "name": "ipython",
    "version": 3
   },
   "file_extension": ".py",
   "mimetype": "text/x-python",
   "name": "python",
   "nbconvert_exporter": "python",
   "pygments_lexer": "ipython3",
   "version": "3.9.12"
  }
 },
 "nbformat": 4,
 "nbformat_minor": 5
}
